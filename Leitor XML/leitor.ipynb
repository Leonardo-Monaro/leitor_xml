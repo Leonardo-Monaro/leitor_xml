{
 "cells": [
  {
   "cell_type": "markdown",
   "metadata": {},
   "source": [
    "# LEITOR DOS XMLs NA PASTA\n"
   ]
  },
  {
   "cell_type": "code",
   "execution_count": 4,
   "metadata": {},
   "outputs": [],
   "source": [
    "import pandas as pd\n",
    "import xmltodict\n",
    "import os\n",
    "import win32com.client as win32\n",
    "import pathlib"
   ]
  },
  {
   "cell_type": "code",
   "execution_count": 13,
   "metadata": {},
   "outputs": [
    {
     "name": "stdout",
     "output_type": "stream",
     "text": [
      "['xml_1.txt', 'xml_2.txt', 'xml_3.txt', 'xml_4.txt', 'xml_5.txt']\n"
     ]
    }
   ],
   "source": [
    "path = (r\"C:\\Users\\leona\\Desktop\\01 - Projeto Python\\leitor_xml\\Leitor XML\\danfes\")\n",
    "\n",
    "files = os.listdir(path)\n",
    "\n",
    "file_list = []\n",
    "\n",
    "for file in files:\n",
    "    if 'xml' in file in file:\n",
    "        file_list.append((file))\n",
    "\n",
    "print(file_list)"
   ]
  },
  {
   "cell_type": "code",
   "execution_count": 19,
   "metadata": {},
   "outputs": [],
   "source": [
    "import xmltodict\n",
    "\n",
    "def read_file(nota):\n",
    "    with open(nota, 'rb') as file:\n",
    "        doc = xmltodict.parse(file)\n",
    "\n",
    "    dict_nf = doc['nfeProc']['NFe']['infNFe']\n",
    "\n",
    "    total_value = dict_nf['total']['ICMSTot']['vNF']\n",
    "    cnpj = dict_nf['emit']['CNPJ']\n",
    "    name = dict_nf['emit']['xNome']\n",
    "    prods = dict_nf['det']\n",
    "\n",
    "    # Garante que prods seja sempre uma lista\n",
    "    if isinstance(prods, dict):\n",
    "        prods = [prods]\n",
    "\n",
    "    prods_list = []\n",
    "    for prod in prods:\n",
    "        prod_name = prod['prod']['xProd']\n",
    "        prods_list.append(prod_name)\n",
    "\n",
    "    answer = {\n",
    "        'total_value': total_value,\n",
    "        'cnpj': cnpj,\n",
    "        'name': name,\n",
    "        'prods': prods_list\n",
    "    }\n",
    "\n",
    "    return answer"
   ]
  },
  {
   "cell_type": "code",
   "execution_count": 20,
   "metadata": {},
   "outputs": [
    {
     "data": {
      "text/html": [
       "<div>\n",
       "<style scoped>\n",
       "    .dataframe tbody tr th:only-of-type {\n",
       "        vertical-align: middle;\n",
       "    }\n",
       "\n",
       "    .dataframe tbody tr th {\n",
       "        vertical-align: top;\n",
       "    }\n",
       "\n",
       "    .dataframe thead th {\n",
       "        text-align: right;\n",
       "    }\n",
       "</style>\n",
       "<table border=\"1\" class=\"dataframe\">\n",
       "  <thead>\n",
       "    <tr style=\"text-align: right;\">\n",
       "      <th></th>\n",
       "      <th>total_value</th>\n",
       "      <th>cnpj</th>\n",
       "      <th>name</th>\n",
       "      <th>prods</th>\n",
       "    </tr>\n",
       "  </thead>\n",
       "  <tbody>\n",
       "    <tr>\n",
       "      <th>0</th>\n",
       "      <td>250.00</td>\n",
       "      <td>12345678000195</td>\n",
       "      <td>Empresa Alfa Ltda</td>\n",
       "      <td>Teclado Mecânico</td>\n",
       "    </tr>\n",
       "    <tr>\n",
       "      <th>1</th>\n",
       "      <td>50.00</td>\n",
       "      <td>99887766000133</td>\n",
       "      <td>Comercial Beta ME</td>\n",
       "      <td>Mouse Óptico</td>\n",
       "    </tr>\n",
       "    <tr>\n",
       "      <th>2</th>\n",
       "      <td>720.00</td>\n",
       "      <td>11223344000166</td>\n",
       "      <td>Loja Gama EIRELI</td>\n",
       "      <td>Monitor LED</td>\n",
       "    </tr>\n",
       "    <tr>\n",
       "      <th>3</th>\n",
       "      <td>720.00</td>\n",
       "      <td>11223344000166</td>\n",
       "      <td>Loja Gama EIRELI</td>\n",
       "      <td>Suporte de Monitor</td>\n",
       "    </tr>\n",
       "    <tr>\n",
       "      <th>4</th>\n",
       "      <td>850.00</td>\n",
       "      <td>55667788000100</td>\n",
       "      <td>Distribuidora Delta</td>\n",
       "      <td>Cadeira de Escritório</td>\n",
       "    </tr>\n",
       "    <tr>\n",
       "      <th>5</th>\n",
       "      <td>3850.00</td>\n",
       "      <td>33445566000188</td>\n",
       "      <td>Importadora Épsilon SA</td>\n",
       "      <td>Notebook</td>\n",
       "    </tr>\n",
       "    <tr>\n",
       "      <th>6</th>\n",
       "      <td>3850.00</td>\n",
       "      <td>33445566000188</td>\n",
       "      <td>Importadora Épsilon SA</td>\n",
       "      <td>Carregador</td>\n",
       "    </tr>\n",
       "    <tr>\n",
       "      <th>7</th>\n",
       "      <td>3850.00</td>\n",
       "      <td>33445566000188</td>\n",
       "      <td>Importadora Épsilon SA</td>\n",
       "      <td>Mochila</td>\n",
       "    </tr>\n",
       "  </tbody>\n",
       "</table>\n",
       "</div>"
      ],
      "text/plain": [
       "  total_value            cnpj                    name                  prods\n",
       "0      250.00  12345678000195       Empresa Alfa Ltda       Teclado Mecânico\n",
       "1       50.00  99887766000133       Comercial Beta ME           Mouse Óptico\n",
       "2      720.00  11223344000166        Loja Gama EIRELI            Monitor LED\n",
       "3      720.00  11223344000166        Loja Gama EIRELI     Suporte de Monitor\n",
       "4      850.00  55667788000100     Distribuidora Delta  Cadeira de Escritório\n",
       "5     3850.00  33445566000188  Importadora Épsilon SA               Notebook\n",
       "6     3850.00  33445566000188  Importadora Épsilon SA             Carregador\n",
       "7     3850.00  33445566000188  Importadora Épsilon SA                Mochila"
      ]
     },
     "metadata": {},
     "output_type": "display_data"
    }
   ],
   "source": [
    "df_final = pd.DataFrame()\n",
    "for file in file_list:\n",
    "    df = pd.DataFrame.from_dict(read_file(fr\"{path}\\{file}\"))\n",
    "    df_final = pd.concat([df_final, df])\n",
    "\n",
    "df_final = df_final.reset_index(drop=True)\n",
    "display(df_final)"
   ]
  }
 ],
 "metadata": {
  "kernelspec": {
   "display_name": "Python 3",
   "language": "python",
   "name": "python3"
  },
  "language_info": {
   "codemirror_mode": {
    "name": "ipython",
    "version": 3
   },
   "file_extension": ".py",
   "mimetype": "text/x-python",
   "name": "python",
   "nbconvert_exporter": "python",
   "pygments_lexer": "ipython3",
   "version": "3.13.3"
  }
 },
 "nbformat": 4,
 "nbformat_minor": 2
}
